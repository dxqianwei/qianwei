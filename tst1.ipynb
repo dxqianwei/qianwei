{
  "nbformat": 4,
  "nbformat_minor": 0,
  "metadata": {
    "colab": {
      "name": "tst1.ipynb",
      "version": "0.3.2",
      "provenance": [],
      "include_colab_link": true
    },
    "kernelspec": {
      "name": "python3",
      "display_name": "Python 3"
    },
    "accelerator": "GPU"
  },
  "cells": [
    {
      "cell_type": "markdown",
      "metadata": {
        "id": "view-in-github",
        "colab_type": "text"
      },
      "source": [
        "<a href=\"https://colab.research.google.com/github/dxqianwei/qianwei/blob/master/tst1.ipynb\" target=\"_parent\"><img src=\"https://colab.research.google.com/assets/colab-badge.svg\" alt=\"Open In Colab\"/></a>"
      ]
    },
    {
      "cell_type": "code",
      "metadata": {
        "id": "StpxEaVKWIqg",
        "colab_type": "code",
        "colab": {}
      },
      "source": [
        "import numpy as np\n",
        "a = np.array([[[1,2],[3,4]],[[5,6],[7,8]]])\n",
        "b = np.pad(a,((0,0),(1,1),(0,0)),\"constant\",constant_values=(0,11))\n",
        "print(np.max(a,axis=1, keepdims=True))"
      ],
      "execution_count": 0,
      "outputs": []
    },
    {
      "cell_type": "code",
      "metadata": {
        "id": "qxaBSo4fn07U",
        "colab_type": "code",
        "outputId": "c2608771-be9d-4c72-c55e-0714810fa74b",
        "colab": {
          "base_uri": "https://localhost:8080/",
          "height": 35
        }
      },
      "source": [
        "import tensorflow as tf\n",
        "from keras import backend as K\n"
      ],
      "execution_count": 0,
      "outputs": [
        {
          "output_type": "stream",
          "text": [
            "Using TensorFlow backend.\n"
          ],
          "name": "stderr"
        }
      ]
    },
    {
      "cell_type": "code",
      "metadata": {
        "id": "O6coPIj7lwjE",
        "colab_type": "code",
        "outputId": "48c7a7a2-8315-4a04-bca8-5bf5f78cea23",
        "colab": {
          "base_uri": "https://localhost:8080/",
          "height": 107
        }
      },
      "source": [
        "w1 = tf.Variable(tf.Variable(tf.random_normal([4, 3], mean=1, stddev=4, seed = 1)))\n",
        " \n",
        "with tf.Session() as sess:\n",
        "    sess.run(tf.global_variables_initializer())\n",
        "    print(w1)\n",
        "    print(sess.run(w1))"
      ],
      "execution_count": 0,
      "outputs": [
        {
          "output_type": "stream",
          "text": [
            "<tf.Variable 'Variable_13:0' shape=(4, 3) dtype=float32_ref>\n",
            "[[-2.2452729   6.938395    1.2613175 ]\n",
            " [-8.770817    1.3969936   3.3648973 ]\n",
            " [ 3.3712919  -7.4917183  -1.8915889 ]\n",
            " [ 0.7749185   3.5741792  -0.05729628]]\n"
          ],
          "name": "stdout"
        }
      ]
    },
    {
      "cell_type": "code",
      "metadata": {
        "id": "W2u24r729Wie",
        "colab_type": "code",
        "outputId": "e42b3c21-3341-4fd2-fb24-c4d5f5ff5211",
        "colab": {
          "base_uri": "https://localhost:8080/",
          "height": 431
        }
      },
      "source": [
        "import tensorflow as tf\n",
        "from keras import backend as K\n",
        "\n",
        "w1 = tf.Variable(tf.Variable(tf.random_normal([4, 3, 5], mean=1, stddev=4, seed = 1)))\n",
        "index_max = K.argmax(w1, axis = -1) \n",
        "val_max = K.max(w1, axis = -1)\n",
        "\n",
        "with tf.Session() as sess:\n",
        "    sess.run(tf.global_variables_initializer())\n",
        "    print(sess.run(w1))\n",
        "    print(index_max.eval())\n",
        "    print(val_max.eval())"
      ],
      "execution_count": 0,
      "outputs": [
        {
          "output_type": "stream",
          "text": [
            "[[[-2.2452729   6.938395    1.2613175  -8.770817    1.3969936 ]\n",
            "  [ 3.3648973   3.3712919  -7.4917183  -1.8915889   0.7749185 ]\n",
            "  [ 3.5741792  -0.05729628  8.426533    3.2713668  -0.5313436 ]]\n",
            "\n",
            " [[-4.9413733   6.0470843   0.8987757  -0.05851877  7.131255  ]\n",
            "  [-5.9719086  -0.75157166 -1.26404     2.282677    5.531324  ]\n",
            "  [-8.113029    2.9312482  -4.250835    2.4274013  -5.9211335 ]]\n",
            "\n",
            " [[ 0.83932906  4.598648   -4.5223565   6.925849    0.01802081]\n",
            "  [-1.9305887   0.21641421  1.286832    3.5319235  -5.284763  ]\n",
            "  [ 6.317525   -3.693468    1.1261784   2.9082098   2.747768  ]]\n",
            "\n",
            " [[-0.26723564 -0.8030013  -6.2242627   1.4995985  -2.0826168 ]\n",
            "  [-1.9849663  -0.1278131  -6.835262   -0.35044277  5.1207933 ]\n",
            "  [ 7.053607    1.9006323  -0.14264834  2.0753016   7.984844  ]]]\n",
            "[[1 1 2]\n",
            " [4 4 1]\n",
            " [3 3 0]\n",
            " [3 4 4]]\n",
            "[[6.938395  3.3712919 8.426533 ]\n",
            " [7.131255  5.531324  2.9312482]\n",
            " [6.925849  3.5319235 6.317525 ]\n",
            " [1.4995985 5.1207933 7.984844 ]]\n"
          ],
          "name": "stdout"
        }
      ]
    },
    {
      "cell_type": "code",
      "metadata": {
        "id": "lXKrkTJCKvDW",
        "colab_type": "code",
        "outputId": "a636ccdc-29e6-4846-9711-4467acfa70cc",
        "colab": {
          "base_uri": "https://localhost:8080/",
          "height": 35
        }
      },
      "source": [
        "X= \"nihao Ha\"\n",
        "sentence_words = [w.lower() for w in X.split()]\n",
        "print(sentence_words)"
      ],
      "execution_count": 0,
      "outputs": [
        {
          "output_type": "stream",
          "text": [
            "['nihao', 'ha']\n"
          ],
          "name": "stdout"
        }
      ]
    },
    {
      "cell_type": "code",
      "metadata": {
        "id": "9n1t9Xonsce4",
        "colab_type": "code",
        "outputId": "0f7fbcd8-87f3-482b-e45e-f14ad9a6607c",
        "colab": {
          "base_uri": "https://localhost:8080/",
          "height": 35
        }
      },
      "source": [
        "import numpy as np\n",
        "from keras.models import Sequential\n",
        "from keras.layers import Dense, Activation,Reshape\n",
        "from keras.layers import concatenate\n",
        "from keras.utils import plot_model\n",
        "from keras.layers import Input, Lambda\n",
        "from keras.models import Model\n",
        "\n",
        "def slice(x,index):\n",
        "  return x[:,:,index]\n",
        "\n",
        "a = Input(shape=(4,2))\n",
        "x1 = Lambda(slice,output_shape=(4,1),arguments={'index':0})(a)\n",
        "x2 = Lambda(slice,output_shape=(4,1),arguments={'index':1})(a)\n",
        "x1 = Reshape((4,1,1))(x1)\n",
        "x2 = Reshape((4,1,1))(x2)\n",
        "output = concatenate([x1,x2])\n",
        "\n",
        "model = Model(a, output)\n",
        "x_test = np.array([[[1,2],[2,3],[3,4],[4,5]]])\n",
        "model.predict(x_test)\n",
        "plot_model(model, to_file='lambda.png',show_shapes=True)\n",
        "#下载到本地电脑\n",
        "#from google.colab import files\n",
        "#files.download('lambda.png')\n",
        "#下载到Gdrive\n",
        "from google.colab import drive\n",
        "drive.mount('/content/gdrive')\n",
        "#连接Gdrive\n",
        "#from google.colab import drive\n",
        "#drive.mount('/content/drive/')"
      ],
      "execution_count": 0,
      "outputs": [
        {
          "output_type": "stream",
          "text": [
            "Mounted at /content/gdrive\n"
          ],
          "name": "stdout"
        }
      ]
    },
    {
      "cell_type": "code",
      "metadata": {
        "id": "gsUNhksyue1l",
        "colab_type": "code",
        "colab": {}
      },
      "source": [
        "!pip show keras"
      ],
      "execution_count": 0,
      "outputs": []
    },
    {
      "cell_type": "code",
      "metadata": {
        "id": "6D5_tiO81Xfl",
        "colab_type": "code",
        "colab": {}
      },
      "source": [
        "!pip show graphviz"
      ],
      "execution_count": 0,
      "outputs": []
    },
    {
      "cell_type": "code",
      "metadata": {
        "id": "736xr8441r1y",
        "colab_type": "code",
        "outputId": "deea91f3-0a31-4c09-d62e-c62c7e920560",
        "colab": {
          "base_uri": "https://localhost:8080/",
          "height": 55
        }
      },
      "source": [
        "import numpy as np\n",
        "from keras.models import Sequential\n",
        "from keras.layers.core import Dense, Activation\n",
        "from keras.optimizers import SGD\n",
        "from keras.utils import np_utils    \n",
        "from keras.utils import plot_model\n",
        "\n",
        "\n",
        "def run():\n",
        "    # 构建神经网络\n",
        "    model = Sequential()\n",
        "    model.add(Dense(4, input_dim=2, kernel_initializer='uniform'))\n",
        "    model.add(Activation('relu'))\n",
        "    model.add(Dense(2, kernel_initializer='uniform'))\n",
        "    model.add(Activation('sigmoid'))\n",
        "    sgd = SGD(lr=0.05, decay=1e-6, momentum=0.9, nesterov=True)\n",
        "    model.compile(loss='binary_crossentropy', optimizer=sgd, metrics=['accuracy'])\n",
        "\n",
        "    # 神经网络可视化\n",
        "    plot_model(model, to_file='model.png')\n",
        "    from google.colab import drive\n",
        "    drive.mount('/content/gdrive/', force_remount=True)\n",
        "  \n",
        "if __name__ == '__main__':\n",
        "    run()"
      ],
      "execution_count": 0,
      "outputs": [
        {
          "output_type": "stream",
          "text": [
            "Drive already mounted at /content/gdrive/; to attempt to forcibly remount, call drive.mount(\"/content/gdrive/\", force_remount=True).\n"
          ],
          "name": "stdout"
        }
      ]
    },
    {
      "cell_type": "code",
      "metadata": {
        "id": "BtmDSjo495bw",
        "colab_type": "code",
        "outputId": "bb82741c-0c83-4a1f-feea-ffc8843c0484",
        "colab": {
          "base_uri": "https://localhost:8080/",
          "height": 53
        }
      },
      "source": [
        "!ls\n",
        "!echo \"Hello World\""
      ],
      "execution_count": 0,
      "outputs": [
        {
          "output_type": "stream",
          "text": [
            "gdrive\tsample_data\n",
            "Hello World\n"
          ],
          "name": "stdout"
        }
      ]
    },
    {
      "cell_type": "code",
      "metadata": {
        "id": "ZKxPCtyxG2wx",
        "colab_type": "code",
        "outputId": "0709ba7c-bae3-49e0-a675-c9583e29fbdd",
        "colab": {
          "base_uri": "https://localhost:8080/",
          "height": 233
        }
      },
      "source": [
        "import tensorflow as tf\n",
        "x1 = tf.constant(1.0, shape=[1,3,3,1])\n",
        "x2 = tf.constant(1.0, shape=[1,6,6,3])\n",
        "\n",
        "kernel = tf.constant(1.0, shape=[3,3,3,1])       #[filter_height, filter_width, in_channels, out_channels]\n",
        "x3 = tf.constant(1.0, shape=[1,8,9,3])           #[batch, in_height, in_width, in_channels]\n",
        "y2 = tf.nn.conv2d(x3, kernel, strides=[1,3,3,1], padding=\"SAME\")\n",
        "\n",
        "with tf.Session() as sess:\n",
        "  print(y2.eval())\n",
        "  print(y2.shape)"
      ],
      "execution_count": 0,
      "outputs": [
        {
          "output_type": "stream",
          "text": [
            "[[[[27.]\n",
            "   [27.]\n",
            "   [27.]]\n",
            "\n",
            "  [[27.]\n",
            "   [27.]\n",
            "   [27.]]\n",
            "\n",
            "  [[18.]\n",
            "   [18.]\n",
            "   [18.]]]]\n",
            "(1, 3, 3, 1)\n"
          ],
          "name": "stdout"
        }
      ]
    },
    {
      "cell_type": "code",
      "metadata": {
        "id": "dRPf-eSUyMjC",
        "colab_type": "code",
        "outputId": "2b72e8e1-3f86-405b-dfe8-67a50c0afc9c",
        "colab": {
          "base_uri": "https://localhost:8080/",
          "height": 71
        }
      },
      "source": [
        "import tensorflow as tf\n",
        "tf.set_random_seed(1)\n",
        "a_C = tf.random_normal([1, 4, 4, 3], mean=1, stddev=4)\n",
        "with tf.Session() as test:\n",
        "  a_C = test.run(a_C)\n",
        "  print(type(a_C))\n",
        "  C_shape = tf.reshape(a_C, shape=(16,3))\n",
        "  print(type(C_shape))\n",
        "  print(test.run(tf.square(2)))"
      ],
      "execution_count": 0,
      "outputs": [
        {
          "output_type": "stream",
          "text": [
            "<class 'numpy.ndarray'>\n",
            "<class 'tensorflow.python.framework.ops.Tensor'>\n",
            "4\n"
          ],
          "name": "stdout"
        }
      ]
    },
    {
      "cell_type": "code",
      "metadata": {
        "id": "v4BZ_8eZpBrv",
        "colab_type": "code",
        "outputId": "350d37a7-5942-47ee-9651-4e5e0e5eef58",
        "colab": {
          "base_uri": "https://localhost:8080/",
          "height": 89
        }
      },
      "source": [
        "import numpy as np\n",
        "tst = np.array([1,2,3])\n",
        "print(tst.shape)\n",
        "print(tst.shape[0])\n",
        "tst2 = tst.reshape(tst.shape[0], 1)\n",
        "print(tst2.shape)\n",
        "print(tst2[0])"
      ],
      "execution_count": 0,
      "outputs": [
        {
          "output_type": "stream",
          "text": [
            "(3,)\n",
            "3\n",
            "(3, 1)\n",
            "[1]\n"
          ],
          "name": "stdout"
        }
      ]
    },
    {
      "cell_type": "code",
      "metadata": {
        "id": "UcV0da10B4kn",
        "colab_type": "code",
        "colab": {}
      },
      "source": [
        "import numpy as np\n",
        "og = np.ogrid[:3, :3]\n",
        "print(og)\n",
        "print(og.shape)"
      ],
      "execution_count": 0,
      "outputs": []
    },
    {
      "cell_type": "code",
      "metadata": {
        "id": "kEBI_W2c2OmU",
        "colab_type": "code",
        "colab": {}
      },
      "source": [
        "import numpy as np\n",
        "def bilinear_kernel(in_channels, out_channels, kernel_size):\n",
        "    factor = (kernel_size + 1) // 2\n",
        "    if kernel_size % 2 == 1:\n",
        "        center = factor - 1\n",
        "    else:\n",
        "        center = factor - 0.5\n",
        "    og = np.ogrid[:kernel_size, :kernel_size]\n",
        "    filt = (1 - abs(og[0] - center) / factor) * \\\n",
        "           (1 - abs(og[1] - center) / factor)\n",
        "    weight = np.zeros((in_channels, out_channels, kernel_size, kernel_size),\n",
        "                      dtype='float32')\n",
        "    weight[range(in_channels), range(out_channels), :, :] = filt\n",
        "    return nd.array(weight)\n"
      ],
      "execution_count": 0,
      "outputs": []
    }
  ]
}